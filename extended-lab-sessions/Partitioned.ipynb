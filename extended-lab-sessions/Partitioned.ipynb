{
 "cells": [
  {
   "cell_type": "markdown",
   "id": "373eea74-e8a2-41e5-bf40-12c75458e649",
   "metadata": {},
   "source": [
    "## Section 3: Distributed Memory Assembly of Matrix and Right-Hand Side Vector \n",
    "- using [PartitionedMatrices](https://github.com/fverdugo/PartitionedArrays.jl); need to study the example described at [example](https://www.francescverdugo.com/PartitionedArrays.jl/dev/usage/).  \n",
    "\n",
    "<div>\n",
    "<img src=\"./figures/dag-fem-1d.jpg\" width=400 /> \n",
    "<center> Figure 1: Directed acyclic graph representation of decomposed mesh of 4 elements on the interval. A finite element discretization is assumed. </center>   \n",
    "</div>\n",
    "\n",
    "[Au = f example here.](https://www.francescverdugo.com/PartitionedArrays.jl/dev/examples/#Distributed-sparse-linear-solve)"
   ]
  },
  {
   "cell_type": "code",
   "execution_count": 7,
   "id": "31f932f3-8b9b-4273-b6fb-7364eb8f7dca",
   "metadata": {},
   "outputs": [],
   "source": [
    "using PartitionedArrays\n",
    "using IterativeSolvers\n",
    "using LinearAlgebra"
   ]
  },
  {
   "cell_type": "code",
   "execution_count": 9,
   "id": "35282d20-7c53-4ed7-b374-bf2849f7e019",
   "metadata": {},
   "outputs": [
    {
     "data": {
      "text/plain": [
       "3-element Vector{PartitionedArrays.LocalIndicesWithConstantBlockSize{1}}:\n",
       " [1, 2, 3]\n",
       " [4, 5, 6]\n",
       " [7, 8, 9, 10]"
      ]
     },
     "execution_count": 9,
     "metadata": {},
     "output_type": "execute_result"
    }
   ],
   "source": [
    "#..first generate the row partition\n",
    "np = 3\n",
    "N = 10\n",
    "ranks = LinearIndices((np,))\n",
    "row_partition = uniform_partition(ranks,N)"
   ]
  },
  {
   "cell_type": "code",
   "execution_count": 10,
   "id": "a58d99ff-c5b1-42a2-a4c7-22880b48ff39",
   "metadata": {},
   "outputs": [],
   "source": [
    "#..construct the mesh: see before \n",
    "h = 1/N; \n",
    "x = Vector(0:h:1); \n",
    "\n",
    "#..Mesh with points and edges \n",
    "#..point holds the coordinates of the left and right node of the element\n",
    "#..edges holds the global indices of the left and right node of the element\n",
    "points = collect( [x[i], x[i+1]] for i in 1:length(x)-1) \n",
    "edges = collect( [i, i+1] for i in 1:length(x)-1); \n",
    "\n",
    "#..Set the source function \n",
    "fsource(x) = x*(x-1); "
   ]
  },
  {
   "cell_type": "markdown",
   "id": "67e96d04-af0e-4dc9-bea5-ed01117d5785",
   "metadata": {},
   "source": [
    "Something to compare with"
   ]
  },
  {
   "cell_type": "code",
   "execution_count": 11,
   "id": "05482fc5-9624-405a-8567-e6a853b5465b",
   "metadata": {},
   "outputs": [
    {
     "data": {
      "text/plain": [
       "11×11 Matrix{Float64}:\n",
       "  10.0  -10.0    0.0    0.0    0.0    0.0    0.0    0.0    0.0    0.0    0.0\n",
       " -10.0   20.0  -10.0    0.0    0.0    0.0    0.0    0.0    0.0    0.0    0.0\n",
       "   0.0  -10.0   20.0  -10.0    0.0    0.0    0.0    0.0    0.0    0.0    0.0\n",
       "   0.0    0.0  -10.0   20.0  -10.0    0.0    0.0    0.0    0.0    0.0    0.0\n",
       "   0.0    0.0    0.0  -10.0   20.0  -10.0    0.0    0.0    0.0    0.0    0.0\n",
       "   0.0    0.0    0.0    0.0  -10.0   20.0  -10.0    0.0    0.0    0.0    0.0\n",
       "   0.0    0.0    0.0    0.0    0.0  -10.0   20.0  -10.0    0.0    0.0    0.0\n",
       "   0.0    0.0    0.0    0.0    0.0    0.0  -10.0   20.0  -10.0    0.0    0.0\n",
       "   0.0    0.0    0.0    0.0    0.0    0.0    0.0  -10.0   20.0  -10.0    0.0\n",
       "   0.0    0.0    0.0    0.0    0.0    0.0    0.0    0.0  -10.0   20.0  -10.0\n",
       "   0.0    0.0    0.0    0.0    0.0    0.0    0.0    0.0    0.0  -10.0   10.0"
      ]
     },
     "execution_count": 11,
     "metadata": {},
     "output_type": "execute_result"
    }
   ],
   "source": [
    "#..Initialize global matrix and right-hand side value \n",
    "A = zeros(length(x), length(x)); \n",
    "f = zeros(length(x), 1); \n",
    "\n",
    "#..Perform loop over elements and assemble global matrix and vector \n",
    "for i=1:length(edges) \n",
    "\n",
    "  xl, xr = points[i,:][1]\n",
    "  floc = (xr-xl) * [fsource(xl) fsource(xr)];\n",
    "  Aloc = (1/(xr-xl))*[1 -1; -1 1]; \n",
    "\n",
    "  for j=1:2 \n",
    "    f[edges[i][j]] += floc[j];\n",
    "    for k =1:2 \n",
    "      A[edges[i][j], edges[i][k]] += Aloc[j,k]; \n",
    "    end \n",
    "  end \n",
    "\n",
    "end\n",
    "\n",
    "f_orig = copy(f)\n",
    "A_orig = copy(A)"
   ]
  },
  {
   "cell_type": "markdown",
   "id": "5b75973f-6fdb-45ac-aa1c-0c1b61a38d76",
   "metadata": {},
   "source": [
    "Compute the rhs vector"
   ]
  },
  {
   "cell_type": "code",
   "execution_count": 2,
   "id": "6d08859d-b9fd-4de1-9c6b-5da219a33487",
   "metadata": {},
   "outputs": [
    {
     "data": {
      "text/plain": [
       "5-element PVector{Vector{Float64}} partitioned into 3 parts\n"
      ]
     },
     "execution_count": 2,
     "metadata": {},
     "output_type": "execute_result"
    }
   ],
   "source": [
    "IV = map(row_partition) do row_indices\n",
    "    I,V = Int[], Float64[]\n",
    "    for global_row in local_to_global(row_indices)\n",
    "        if global_row == 1\n",
    "            v = 1.0\n",
    "        elseif global_row == N\n",
    "            v = -1.0\n",
    "        else\n",
    "            continue\n",
    "        end\n",
    "        push!(I,global_row)\n",
    "        push!(V,v)\n",
    "    end\n",
    "    I,V\n",
    "end\n",
    "I,V = tuple_of_arrays(IV)\n",
    "b = pvector!(I,V,row_partition) |> fetch"
   ]
  },
  {
   "cell_type": "markdown",
   "id": "8c330cf7-d472-44c7-8542-dc229dc019c2",
   "metadata": {},
   "source": [
    "Compute the system matrix"
   ]
  },
  {
   "cell_type": "code",
   "execution_count": 3,
   "id": "7f033826-d48a-4e26-be31-b791f75c8183",
   "metadata": {},
   "outputs": [
    {
     "data": {
      "text/plain": [
       "5×5 PSparseMatrix{SparseArrays.SparseMatrixCSC{Float64, Int64}} partitioned into 3 parts\n"
      ]
     },
     "execution_count": 3,
     "metadata": {},
     "output_type": "execute_result"
    }
   ],
   "source": [
    "IJV = map(row_partition) do row_indices\n",
    "    I,J,V = Int[], Int[], Float64[]\n",
    "    for global_row in local_to_global(row_indices)\n",
    "        if global_row in (1,n)\n",
    "            push!(I,global_row)\n",
    "            push!(J,global_row)\n",
    "            push!(V,1.0)\n",
    "        else\n",
    "            push!(I,global_row)\n",
    "            push!(J,global_row-1)\n",
    "            push!(V,-1.0)\n",
    "            push!(I,global_row)\n",
    "            push!(J,global_row)\n",
    "            push!(V,2.0)\n",
    "            push!(I,global_row)\n",
    "            push!(J,global_row+1)\n",
    "            push!(V,-1.0)\n",
    "        end\n",
    "    end\n",
    "    I,J,V\n",
    "end\n",
    "I,J,V = tuple_of_arrays(IJV)\n",
    "col_partition = row_partition\n",
    "A = psparse!(I,J,V,row_partition,col_partition) |> fetch"
   ]
  },
  {
   "cell_type": "markdown",
   "id": "d2cfe654-8544-4713-ac3b-55e94481caf6",
   "metadata": {},
   "source": [
    "Generate an initial guess that fulfills the boundary conditions. Solve and check the result"
   ]
  },
  {
   "cell_type": "code",
   "execution_count": 4,
   "id": "094e2da0-f6ab-4ae3-a047-a6020cfe641c",
   "metadata": {},
   "outputs": [
    {
     "data": {
      "text/plain": [
       "3.1401849173675503e-16"
      ]
     },
     "execution_count": 4,
     "metadata": {},
     "output_type": "execute_result"
    }
   ],
   "source": [
    "x = similar(b,axes(A,2))\n",
    "x .= b\n",
    "IterativeSolvers.cg!(x,A,b)\n",
    "r = A*x - b\n",
    "norm(r)"
   ]
  }
 ],
 "metadata": {
  "kernelspec": {
   "display_name": "Julia 1.8.5",
   "language": "julia",
   "name": "julia-1.8"
  },
  "language_info": {
   "file_extension": ".jl",
   "mimetype": "application/julia",
   "name": "julia",
   "version": "1.8.5"
  }
 },
 "nbformat": 4,
 "nbformat_minor": 5
}
