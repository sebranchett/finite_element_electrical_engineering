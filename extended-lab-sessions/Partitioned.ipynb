{
 "cells": [
  {
   "cell_type": "markdown",
   "id": "373eea74-e8a2-41e5-bf40-12c75458e649",
   "metadata": {},
   "source": [
    "## Section 3: Distributed Memory Assembly of Matrix and Right-Hand Side Vector \n",
    "- using [PartitionedMatrices](https://github.com/fverdugo/PartitionedArrays.jl); need to study the example described at [example](https://www.francescverdugo.com/PartitionedArrays.jl/dev/usage/).  \n",
    "\n",
    "<div>\n",
    "<img src=\"./figures/dag-fem-1d.jpg\" width=400 /> \n",
    "<center> Figure 1: Directed acyclic graph representation of decomposed mesh of 4 elements on the interval. A finite element discretization is assumed. </center>   \n",
    "</div>\n",
    "\n",
    "[Au = f example here.](https://www.francescverdugo.com/PartitionedArrays.jl/dev/examples/#Distributed-sparse-linear-solve)"
   ]
  },
  {
   "cell_type": "code",
   "execution_count": 1,
   "id": "31f932f3-8b9b-4273-b6fb-7364eb8f7dca",
   "metadata": {},
   "outputs": [],
   "source": [
    "using PartitionedArrays\n",
    "using IterativeSolvers\n",
    "using LinearAlgebra"
   ]
  },
  {
   "cell_type": "code",
   "execution_count": 2,
   "id": "35282d20-7c53-4ed7-b374-bf2849f7e019",
   "metadata": {},
   "outputs": [
    {
     "data": {
      "text/plain": [
       "3-element Vector{PartitionedArrays.LocalIndicesWithConstantBlockSize{1}}:\n",
       " [1, 2, 3]\n",
       " [4, 5, 6, 7]\n",
       " [8, 9, 10, 11]"
      ]
     },
     "execution_count": 2,
     "metadata": {},
     "output_type": "execute_result"
    }
   ],
   "source": [
    "#..first generate the row partition\n",
    "np = 3\n",
    "N = 10\n",
    "ranks = LinearIndices((np,))\n",
    "row_partition = uniform_partition(ranks,N+1)"
   ]
  },
  {
   "cell_type": "code",
   "execution_count": 3,
   "id": "a58d99ff-c5b1-42a2-a4c7-22880b48ff39",
   "metadata": {},
   "outputs": [],
   "source": [
    "#..construct the mesh: see before \n",
    "h = 1/N; \n",
    "x = Vector(0:h:1); \n",
    "\n",
    "#..Mesh with points and edges \n",
    "#..point holds the coordinates of the left and right node of the element\n",
    "#..edges holds the global indices of the left and right node of the element\n",
    "points = collect( [x[i], x[i+1]] for i in 1:length(x)-1) \n",
    "edges = collect( [i, i+1] for i in 1:length(x)-1); \n",
    "\n",
    "#..Set the source function \n",
    "fsource(x) = x*(x-1); "
   ]
  },
  {
   "cell_type": "markdown",
   "id": "67e96d04-af0e-4dc9-bea5-ed01117d5785",
   "metadata": {},
   "source": [
    "Something to compare with"
   ]
  },
  {
   "cell_type": "code",
   "execution_count": 4,
   "id": "05482fc5-9624-405a-8567-e6a853b5465b",
   "metadata": {},
   "outputs": [
    {
     "data": {
      "text/plain": [
       "11×1 Matrix{Float64}:\n",
       "  0.0\n",
       " -0.018000000000000002\n",
       " -0.032\n",
       " -0.041999999999999996\n",
       " -0.048\n",
       " -0.04999999999999999\n",
       " -0.04799999999999999\n",
       " -0.04200000000000002\n",
       " -0.032\n",
       " -0.01799999999999999\n",
       "  0.0"
      ]
     },
     "execution_count": 4,
     "metadata": {},
     "output_type": "execute_result"
    }
   ],
   "source": [
    "#..Initialize global matrix and right-hand side value \n",
    "A = zeros(length(x), length(x)); \n",
    "f = zeros(length(x), 1); \n",
    "\n",
    "#..Perform loop over elements and assemble global matrix and vector \n",
    "for i=1:length(edges) \n",
    "\n",
    "  xl, xr = points[i,:][1]\n",
    "  floc = (xr-xl) * [fsource(xl) fsource(xr)];\n",
    "  Aloc = (1/(xr-xl))*[1 -1; -1 1]; \n",
    "\n",
    "  for j=1:2 \n",
    "    f[edges[i][j]] += floc[j];\n",
    "    for k =1:2 \n",
    "      A[edges[i][j], edges[i][k]] += Aloc[j,k]; \n",
    "    end \n",
    "  end \n",
    "\n",
    "end\n",
    "\n",
    "f_orig = copy(f)\n",
    "A_orig = copy(A)\n",
    "f"
   ]
  },
  {
   "cell_type": "markdown",
   "id": "5b75973f-6fdb-45ac-aa1c-0c1b61a38d76",
   "metadata": {},
   "source": [
    "Compute the rhs vector"
   ]
  },
  {
   "cell_type": "code",
   "execution_count": 5,
   "id": "6d08859d-b9fd-4de1-9c6b-5da219a33487",
   "metadata": {},
   "outputs": [
    {
     "data": {
      "text/plain": [
       "11-element PVector{Vector{Float64}} partitioned into 3 parts\n"
      ]
     },
     "execution_count": 5,
     "metadata": {},
     "output_type": "execute_result"
    }
   ],
   "source": [
    "j = 2\n",
    "IV = map(row_partition) do row_indices\n",
    "    I,V = Int[], Float64[]\n",
    "    for global_row in local_to_global(row_indices) \n",
    "        # xl, xr = points[global_row,:][1]\n",
    "        # floc = (xr-xl) * [fsource(xl) fsource(xr)]\n",
    "        # f[edges[global_row][j]] += floc[j]\n",
    "        # xlp1, xrp1 = points[global_row+1,:][1]\n",
    "        # floc = (xrp1-xlp1) * [fsource(xlp1) fsource(xrp1)]\n",
    "        # f[edges[global_row][2]] += floc[2]\n",
    "        if global_row == 1\n",
    "            xl, xr = points[global_row,:][1]\n",
    "            floc = (xr-xl) * [fsource(xl) fsource(xr)]\n",
    "            v = floc[1]\n",
    "        elseif global_row == N+1\n",
    "            xl, xr = points[global_row-1,:][1]\n",
    "            floc = (xr-xl) * [fsource(xl) fsource(xr)]\n",
    "            v = floc[2]\n",
    "        else\n",
    "            xll, xrl = points[global_row-1,:][1]\n",
    "            flocl = (xrl-xll) * [fsource(xll) fsource(xrl)]\n",
    "            xlr, xrr = points[global_row,:][1]\n",
    "            flocr = (xrr-xlr) * [fsource(xlr) fsource(xrr)]\n",
    "            v = flocr[1] + flocl[2]\n",
    "        end\n",
    "        push!(I,global_row)\n",
    "        push!(V,v)\n",
    "    end\n",
    "    I,V\n",
    "end\n",
    "I,V = tuple_of_arrays(IV)\n",
    "b = pvector!(I,V,row_partition) |> fetch\n",
    "b"
   ]
  },
  {
   "cell_type": "code",
   "execution_count": 6,
   "id": "fe941767-6d1b-4769-8af5-d012907202c4",
   "metadata": {},
   "outputs": [
    {
     "data": {
      "text/plain": [
       "3-element Vector{Vector{Float64}}:\n",
       " [-0.0, -0.018000000000000002, -0.032]\n",
       " [-0.041999999999999996, -0.048, -0.04999999999999999, -0.04799999999999999]\n",
       " [-0.04200000000000002, -0.032, -0.01799999999999999, 0.0]"
      ]
     },
     "execution_count": 6,
     "metadata": {},
     "output_type": "execute_result"
    }
   ],
   "source": [
    "V"
   ]
  },
  {
   "cell_type": "markdown",
   "id": "8c330cf7-d472-44c7-8542-dc229dc019c2",
   "metadata": {},
   "source": [
    "Compute the system matrix"
   ]
  },
  {
   "cell_type": "code",
   "execution_count": 7,
   "id": "7f033826-d48a-4e26-be31-b791f75c8183",
   "metadata": {},
   "outputs": [
    {
     "ename": "LoadError",
     "evalue": "UndefVarError: n not defined",
     "output_type": "error",
     "traceback": [
      "UndefVarError: n not defined",
      "",
      "Stacktrace:",
      " [1] (::var\"#7#8\")(row_indices::PartitionedArrays.LocalIndicesWithConstantBlockSize{1})",
      "   @ Main .\\In[7]:4",
      " [2] iterate",
      "   @ .\\generator.jl:47 [inlined]",
      " [3] _collect(c::Vector{PartitionedArrays.LocalIndicesWithConstantBlockSize{1}}, itr::Base.Generator{Vector{PartitionedArrays.LocalIndicesWithConstantBlockSize{1}}, var\"#7#8\"}, #unused#::Base.EltypeUnknown, isz::Base.HasShape{1})",
      "   @ Base .\\array.jl:807",
      " [4] collect_similar(cont::Vector{PartitionedArrays.LocalIndicesWithConstantBlockSize{1}}, itr::Base.Generator{Vector{PartitionedArrays.LocalIndicesWithConstantBlockSize{1}}, var\"#7#8\"})",
      "   @ Base .\\array.jl:716",
      " [5] map(f::Function, A::Vector{PartitionedArrays.LocalIndicesWithConstantBlockSize{1}})",
      "   @ Base .\\abstractarray.jl:2933",
      " [6] top-level scope",
      "   @ In[7]:1"
     ]
    }
   ],
   "source": [
    "IJV = map(row_partition) do row_indices\n",
    "    I,J,V = Int[], Int[], Float64[]\n",
    "    for global_row in local_to_global(row_indices)\n",
    "        if global_row in (1,n)\n",
    "            push!(I,global_row)\n",
    "            push!(J,global_row)\n",
    "            push!(V,1.0)\n",
    "        else\n",
    "            push!(I,global_row)\n",
    "            push!(J,global_row-1)\n",
    "            push!(V,-1.0)\n",
    "            push!(I,global_row)\n",
    "            push!(J,global_row)\n",
    "            push!(V,2.0)\n",
    "            push!(I,global_row)\n",
    "            push!(J,global_row+1)\n",
    "            push!(V,-1.0)\n",
    "        end\n",
    "    end\n",
    "    I,J,V\n",
    "end\n",
    "I,J,V = tuple_of_arrays(IJV)\n",
    "col_partition = row_partition\n",
    "A = psparse!(I,J,V,row_partition,col_partition) |> fetch"
   ]
  },
  {
   "cell_type": "markdown",
   "id": "d2cfe654-8544-4713-ac3b-55e94481caf6",
   "metadata": {},
   "source": [
    "Generate an initial guess that fulfills the boundary conditions. Solve and check the result"
   ]
  },
  {
   "cell_type": "code",
   "execution_count": 8,
   "id": "094e2da0-f6ab-4ae3-a047-a6020cfe641c",
   "metadata": {},
   "outputs": [
    {
     "ename": "LoadError",
     "evalue": "MethodError: no method matching ndims(::Type{PartitionedArrays.PBroadcasted{Vector{Base.Broadcast.Broadcasted{Base.Broadcast.DefaultArrayStyle{1}, Nothing, typeof(identity), Tuple{SubArray{Float64, 1, Vector{Float64}, Tuple{UnitRange{Int32}}, true}}}}, Vector{Base.Broadcast.Broadcasted{Base.Broadcast.DefaultArrayStyle{1}, Nothing, typeof(identity), Tuple{SubArray{Float64, 1, Vector{Float64}, Tuple{UnitRange{Int32}}, true}}}}, Vector{PartitionedArrays.LocalIndicesWithConstantBlockSize{1}}}})\n\u001b[0mClosest candidates are:\n\u001b[0m  ndims(\u001b[91m::Base.Broadcast.Broadcasted{<:Any, <:Tuple{Vararg{Any, N}}}\u001b[39m) where N at broadcast.jl:247\n\u001b[0m  ndims(\u001b[91m::Base.Iterators.ProductIterator\u001b[39m) at iterators.jl:1015\n\u001b[0m  ndims(\u001b[91m::CartesianIndices\u001b[39m) at multidimensional.jl:380\n\u001b[0m  ...",
     "output_type": "error",
     "traceback": [
      "MethodError: no method matching ndims(::Type{PartitionedArrays.PBroadcasted{Vector{Base.Broadcast.Broadcasted{Base.Broadcast.DefaultArrayStyle{1}, Nothing, typeof(identity), Tuple{SubArray{Float64, 1, Vector{Float64}, Tuple{UnitRange{Int32}}, true}}}}, Vector{Base.Broadcast.Broadcasted{Base.Broadcast.DefaultArrayStyle{1}, Nothing, typeof(identity), Tuple{SubArray{Float64, 1, Vector{Float64}, Tuple{UnitRange{Int32}}, true}}}}, Vector{PartitionedArrays.LocalIndicesWithConstantBlockSize{1}}}})\n\u001b[0mClosest candidates are:\n\u001b[0m  ndims(\u001b[91m::Base.Broadcast.Broadcasted{<:Any, <:Tuple{Vararg{Any, N}}}\u001b[39m) where N at broadcast.jl:247\n\u001b[0m  ndims(\u001b[91m::Base.Iterators.ProductIterator\u001b[39m) at iterators.jl:1015\n\u001b[0m  ndims(\u001b[91m::CartesianIndices\u001b[39m) at multidimensional.jl:380\n\u001b[0m  ...",
      "",
      "Stacktrace:",
      " [1] Base.Broadcast.BroadcastStyle(#unused#::Type{PartitionedArrays.PBroadcasted{Vector{Base.Broadcast.Broadcasted{Base.Broadcast.DefaultArrayStyle{1}, Nothing, typeof(identity), Tuple{SubArray{Float64, 1, Vector{Float64}, Tuple{UnitRange{Int32}}, true}}}}, Vector{Base.Broadcast.Broadcasted{Base.Broadcast.DefaultArrayStyle{1}, Nothing, typeof(identity), Tuple{SubArray{Float64, 1, Vector{Float64}, Tuple{UnitRange{Int32}}, true}}}}, Vector{PartitionedArrays.LocalIndicesWithConstantBlockSize{1}}}})",
      "   @ Base.Broadcast .\\broadcast.jl:103",
      " [2] combine_styles(c::PartitionedArrays.PBroadcasted{Vector{Base.Broadcast.Broadcasted{Base.Broadcast.DefaultArrayStyle{1}, Nothing, typeof(identity), Tuple{SubArray{Float64, 1, Vector{Float64}, Tuple{UnitRange{Int32}}, true}}}}, Vector{Base.Broadcast.Broadcasted{Base.Broadcast.DefaultArrayStyle{1}, Nothing, typeof(identity), Tuple{SubArray{Float64, 1, Vector{Float64}, Tuple{UnitRange{Int32}}, true}}}}, Vector{PartitionedArrays.LocalIndicesWithConstantBlockSize{1}}})",
      "   @ Base.Broadcast .\\broadcast.jl:435",
      " [3] Base.Broadcast.Broadcasted(f::typeof(identity), args::Tuple{PartitionedArrays.PBroadcasted{Vector{Base.Broadcast.Broadcasted{Base.Broadcast.DefaultArrayStyle{1}, Nothing, typeof(identity), Tuple{SubArray{Float64, 1, Vector{Float64}, Tuple{UnitRange{Int32}}, true}}}}, Vector{Base.Broadcast.Broadcasted{Base.Broadcast.DefaultArrayStyle{1}, Nothing, typeof(identity), Tuple{SubArray{Float64, 1, Vector{Float64}, Tuple{UnitRange{Int32}}, true}}}}, Vector{PartitionedArrays.LocalIndicesWithConstantBlockSize{1}}}}, axes::Tuple{Base.OneTo{Int64}})",
      "   @ Base.Broadcast .\\broadcast.jl:175",
      " [4] materialize!(dest::Vector{Float64}, x::PartitionedArrays.PBroadcasted{Vector{Base.Broadcast.Broadcasted{Base.Broadcast.DefaultArrayStyle{1}, Nothing, typeof(identity), Tuple{SubArray{Float64, 1, Vector{Float64}, Tuple{UnitRange{Int32}}, true}}}}, Vector{Base.Broadcast.Broadcasted{Base.Broadcast.DefaultArrayStyle{1}, Nothing, typeof(identity), Tuple{SubArray{Float64, 1, Vector{Float64}, Tuple{UnitRange{Int32}}, true}}}}, Vector{PartitionedArrays.LocalIndicesWithConstantBlockSize{1}}})",
      "   @ Base.Broadcast .\\broadcast.jl:864",
      " [5] top-level scope",
      "   @ In[8]:2"
     ]
    }
   ],
   "source": [
    "x = similar(b,axes(A,2))\n",
    "x .= b\n",
    "IterativeSolvers.cg!(x,A,b)\n",
    "r = A*x - b\n",
    "norm(r)"
   ]
  }
 ],
 "metadata": {
  "kernelspec": {
   "display_name": "Julia 1.8.5",
   "language": "julia",
   "name": "julia-1.8"
  },
  "language_info": {
   "file_extension": ".jl",
   "mimetype": "application/julia",
   "name": "julia",
   "version": "1.8.5"
  }
 },
 "nbformat": 4,
 "nbformat_minor": 5
}
