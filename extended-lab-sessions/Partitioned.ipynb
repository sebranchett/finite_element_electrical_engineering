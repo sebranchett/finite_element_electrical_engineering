{
 "cells": [
  {
   "cell_type": "markdown",
   "id": "373eea74-e8a2-41e5-bf40-12c75458e649",
   "metadata": {},
   "source": [
    "## Section 3: Distributed Memory Assembly of Matrix and Right-Hand Side Vector \n",
    "- using [PartitionedMatrices](https://github.com/fverdugo/PartitionedArrays.jl); need to study the example described at [example](https://www.francescverdugo.com/PartitionedArrays.jl/dev/usage/).  \n",
    "\n",
    "<div>\n",
    "<img src=\"./figures/dag-fem-1d.jpg\" width=400 /> \n",
    "<center> Figure 1: Directed acyclic graph representation of decomposed mesh of 4 elements on the interval. A finite element discretization is assumed. </center>   \n",
    "</div>\n",
    "\n",
    "Following [Au = f example here.](https://www.francescverdugo.com/PartitionedArrays.jl/dev/examples/#Distributed-sparse-linear-solve)"
   ]
  },
  {
   "cell_type": "code",
   "execution_count": 1,
   "id": "31f932f3-8b9b-4273-b6fb-7364eb8f7dca",
   "metadata": {},
   "outputs": [],
   "source": [
    "using PartitionedArrays\n",
    "using Plots\n",
    "using IterativeSolvers\n",
    "using LinearAlgebra"
   ]
  },
  {
   "cell_type": "code",
   "execution_count": 2,
   "id": "35282d20-7c53-4ed7-b374-bf2849f7e019",
   "metadata": {},
   "outputs": [
    {
     "data": {
      "text/plain": [
       "3-element Vector{PartitionedArrays.LocalIndicesWithConstantBlockSize{1}}:\n",
       " [1, 2, 3]\n",
       " [4, 5, 6, 7]\n",
       " [8, 9, 10, 11]"
      ]
     },
     "execution_count": 2,
     "metadata": {},
     "output_type": "execute_result"
    }
   ],
   "source": [
    "#..first generate the row partition\n",
    "np = 3\n",
    "N = 10\n",
    "ranks = LinearIndices((np,))\n",
    "row_partition = uniform_partition(ranks,N+1)"
   ]
  },
  {
   "cell_type": "code",
   "execution_count": 3,
   "id": "a58d99ff-c5b1-42a2-a4c7-22880b48ff39",
   "metadata": {},
   "outputs": [],
   "source": [
    "#..construct the mesh: see before \n",
    "h = 1/N; \n",
    "x = Vector(0:h:1); \n",
    "\n",
    "#..Mesh with points and edges \n",
    "#..point holds the coordinates of the left and right node of the element\n",
    "#..edges holds the global indices of the left and right node of the element\n",
    "points = collect( [x[i], x[i+1]] for i in 1:length(x)-1) \n",
    "edges = collect( [i, i+1] for i in 1:length(x)-1); \n",
    "\n",
    "#..Set the source function \n",
    "fsource(x) = x*(x-1); "
   ]
  },
  {
   "cell_type": "markdown",
   "id": "67e96d04-af0e-4dc9-bea5-ed01117d5785",
   "metadata": {},
   "source": [
    "Something to compare with"
   ]
  },
  {
   "cell_type": "code",
   "execution_count": 4,
   "id": "05482fc5-9624-405a-8567-e6a853b5465b",
   "metadata": {},
   "outputs": [
    {
     "data": {
      "text/plain": [
       "11×1 Matrix{Float64}:\n",
       "  0.0\n",
       " -0.018000000000000002\n",
       " -0.032\n",
       " -0.041999999999999996\n",
       " -0.048\n",
       " -0.04999999999999999\n",
       " -0.04799999999999999\n",
       " -0.04200000000000002\n",
       " -0.032\n",
       " -0.01799999999999999\n",
       "  0.0"
      ]
     },
     "execution_count": 4,
     "metadata": {},
     "output_type": "execute_result"
    }
   ],
   "source": [
    "#..Initialize global matrix and right-hand side value \n",
    "A = zeros(length(x), length(x)); \n",
    "f = zeros(length(x), 1); \n",
    "\n",
    "#..Perform loop over elements and assemble global matrix and vector \n",
    "for i=1:length(edges) \n",
    "\n",
    "  xl, xr = points[i,:][1]\n",
    "  floc = (xr-xl) * [fsource(xl) fsource(xr)];\n",
    "  Aloc = (1/(xr-xl))*[1 -1; -1 1]; \n",
    "\n",
    "  for j=1:2 \n",
    "    f[edges[i][j]] += floc[j];\n",
    "    for k =1:2 \n",
    "      A[edges[i][j], edges[i][k]] += Aloc[j,k]; \n",
    "    end \n",
    "  end \n",
    "\n",
    "end\n",
    "\n",
    "f_orig = copy(f)\n",
    "A_orig = copy(A)\n",
    "f"
   ]
  },
  {
   "cell_type": "code",
   "execution_count": 5,
   "id": "6fd8d9e3-1027-4aab-8068-61a520e40d90",
   "metadata": {},
   "outputs": [
    {
     "data": {
      "text/plain": [
       "11×11 Matrix{Float64}:\n",
       "  10.0  -10.0    0.0    0.0    0.0    0.0    0.0    0.0    0.0    0.0    0.0\n",
       " -10.0   20.0  -10.0    0.0    0.0    0.0    0.0    0.0    0.0    0.0    0.0\n",
       "   0.0  -10.0   20.0  -10.0    0.0    0.0    0.0    0.0    0.0    0.0    0.0\n",
       "   0.0    0.0  -10.0   20.0  -10.0    0.0    0.0    0.0    0.0    0.0    0.0\n",
       "   0.0    0.0    0.0  -10.0   20.0  -10.0    0.0    0.0    0.0    0.0    0.0\n",
       "   0.0    0.0    0.0    0.0  -10.0   20.0  -10.0    0.0    0.0    0.0    0.0\n",
       "   0.0    0.0    0.0    0.0    0.0  -10.0   20.0  -10.0    0.0    0.0    0.0\n",
       "   0.0    0.0    0.0    0.0    0.0    0.0  -10.0   20.0  -10.0    0.0    0.0\n",
       "   0.0    0.0    0.0    0.0    0.0    0.0    0.0  -10.0   20.0  -10.0    0.0\n",
       "   0.0    0.0    0.0    0.0    0.0    0.0    0.0    0.0  -10.0   20.0  -10.0\n",
       "   0.0    0.0    0.0    0.0    0.0    0.0    0.0    0.0    0.0  -10.0   10.0"
      ]
     },
     "execution_count": 5,
     "metadata": {},
     "output_type": "execute_result"
    }
   ],
   "source": [
    "A"
   ]
  },
  {
   "cell_type": "markdown",
   "id": "5b75973f-6fdb-45ac-aa1c-0c1b61a38d76",
   "metadata": {},
   "source": [
    "Compute the rhs vector"
   ]
  },
  {
   "cell_type": "code",
   "execution_count": 6,
   "id": "6d08859d-b9fd-4de1-9c6b-5da219a33487",
   "metadata": {},
   "outputs": [
    {
     "data": {
      "text/plain": [
       "3-element Vector{SubArray{Float64, 1, Vector{Float64}, Tuple{UnitRange{Int32}}, true}}:\n",
       " [0.0, -0.018000000000000002, -0.032]\n",
       " [-0.041999999999999996, -0.048, -0.04999999999999999, -0.04799999999999999]\n",
       " [-0.04200000000000002, -0.032, -0.01799999999999999, 0.0]"
      ]
     },
     "execution_count": 6,
     "metadata": {},
     "output_type": "execute_result"
    }
   ],
   "source": [
    "j = 2\n",
    "IV = map(row_partition) do row_indices\n",
    "    I,V = Int[], Float64[]\n",
    "    for global_row in local_to_global(row_indices) \n",
    "        # xl, xr = points[global_row,:][1]\n",
    "        # floc = (xr-xl) * [fsource(xl) fsource(xr)]\n",
    "        # f[edges[global_row][j]] += floc[j]\n",
    "        # xlp1, xrp1 = points[global_row+1,:][1]\n",
    "        # floc = (xrp1-xlp1) * [fsource(xlp1) fsource(xrp1)]\n",
    "        # f[edges[global_row][2]] += floc[2]\n",
    "        if global_row == 1\n",
    "            xl, xr = points[global_row,:][1]\n",
    "            floc = (xr-xl) * [fsource(xl) fsource(xr)]\n",
    "            v = floc[1]\n",
    "        elseif global_row == N+1\n",
    "            xl, xr = points[global_row-1,:][1]\n",
    "            floc = (xr-xl) * [fsource(xl) fsource(xr)]\n",
    "            v = floc[2]\n",
    "        else\n",
    "            xll, xrl = points[global_row-1,:][1]\n",
    "            flocl = (xrl-xll) * [fsource(xll) fsource(xrl)]\n",
    "            xlr, xrr = points[global_row,:][1]\n",
    "            flocr = (xrr-xlr) * [fsource(xlr) fsource(xrr)]\n",
    "            v = flocr[1] + flocl[2]\n",
    "        end\n",
    "        push!(I,global_row)\n",
    "        push!(V,v)\n",
    "    end\n",
    "    I,V\n",
    "end\n",
    "I,V = tuple_of_arrays(IV)\n",
    "f = pvector!(I,V,row_partition) |> fetch\n",
    "own_values(f)\n",
    "#..handle the boundary conditions in the right-hand side vector \n",
    "# right-hand side vector already satisfied:\n",
    "# f[1]   = 0;     f[end] = 0;"
   ]
  },
  {
   "cell_type": "markdown",
   "id": "8c330cf7-d472-44c7-8542-dc229dc019c2",
   "metadata": {},
   "source": [
    "Compute the system matrix"
   ]
  },
  {
   "cell_type": "code",
   "execution_count": 7,
   "id": "da4ea93f-a7f0-44e7-a296-c48277397e29",
   "metadata": {},
   "outputs": [],
   "source": [
    "#  xl, xr = points[i,:][1]\n",
    "#  Aloc = (1/(xr-xl))*[1 -1; -1 1];\n",
    "\n",
    "#  for j=1:2 \n",
    "#    for k =1:2 \n",
    "#      A[edges[i][j], edges[i][k]] += Aloc[j,k]; \n",
    "#    end \n",
    "#  end \n",
    "\n",
    "IJV = map(row_partition) do row_indices\n",
    "    I,J,V = Int[], Int[], Float64[]\n",
    "    for global_row in local_to_global(row_indices)\n",
    "        if global_row == 1\n",
    "            # not needed due to boundary condition: xl, xr = points[global_row,:][1]\n",
    "            # not needed due to boundary condition: Aloc = (1/(xr-xl))*[1 -1; -1 1]\n",
    "            # not needed due to boundary condition: push!(I,global_row)\n",
    "            # not needed due to boundary condition: push!(J,global_row)\n",
    "            # not needed due to boundary condition: push!(V,Aloc[1,1])\n",
    "            # not needed due to boundary condition: push!(I,global_row)\n",
    "            # not needed due to boundary condition: push!(J,global_row+1)\n",
    "            # not needed due to boundary condition: push!(V,Aloc[1,2])\n",
    "#..handle the boundary conditions in the matrix\n",
    "# A[1,1] = 1;     A[1,2] = 0\n",
    "            push!(I,global_row)\n",
    "            push!(J,global_row)\n",
    "            push!(V,1.0)\n",
    "            push!(I,global_row)\n",
    "            push!(J,global_row+1)\n",
    "            push!(V,0.0)\n",
    "        elseif global_row == N+1\n",
    "            # not needed due to boundary condition: xl, xr = points[global_row-1,:][1]\n",
    "            # not needed due to boundary condition: Aloc = (1/(xr-xl))*[1 -1; -1 1]\n",
    "            # not needed due to boundary condition: push!(I,global_row)\n",
    "            # not needed due to boundary condition: push!(J,global_row-1)\n",
    "            # not needed due to boundary condition: push!(V,Aloc[2,1])\n",
    "            # not needed due to boundary condition: push!(I,global_row)\n",
    "            # not needed due to boundary condition: push!(J,global_row)\n",
    "            # not needed due to boundary condition: push!(V,Aloc[2,2])\n",
    "#..handle the boundary conditions in the matrix\n",
    "# A[end,end-1]=0; A[end,end] = 1\n",
    "            push!(I,global_row)\n",
    "            push!(J,global_row-1)\n",
    "            push!(V,0.0)\n",
    "            push!(I,global_row)\n",
    "            push!(J,global_row)\n",
    "            push!(V,1.0)\n",
    "        else\n",
    "            xll, xrl = points[global_row-1,:][1]\n",
    "            Alocl = (1/(xrl-xll))*[1 -1; -1 1]\n",
    "            xlr, xrr = points[global_row,:][1]\n",
    "            Alocr = (1/(xrr-xlr))*[1 -1; -1 1]\n",
    "            push!(I,global_row)\n",
    "            push!(J,global_row-1)\n",
    "            push!(V,Alocl[2,1])\n",
    "            push!(I,global_row)\n",
    "            push!(J,global_row)\n",
    "            push!(V,Alocl[2,2] + Alocr[1,1])\n",
    "            push!(I,global_row)\n",
    "            push!(J,global_row+1)\n",
    "            push!(V,Alocr[1,2])\n",
    "        end\n",
    "    end\n",
    "    I,J,V\n",
    "end\n",
    "\n",
    "I,J,V = tuple_of_arrays(IJV)\n",
    "col_partition = row_partition\n",
    "A = psparse!(I,J,V,row_partition,col_partition) |> fetch;"
   ]
  },
  {
   "cell_type": "code",
   "execution_count": 8,
   "id": "8af6627f-4a0e-4ccf-b42e-7627d47a394d",
   "metadata": {
    "tags": []
   },
   "outputs": [
    {
     "data": {
      "text/plain": [
       "3-element Vector{Vector{Float64}}:\n",
       " [1.0, 0.0, -10.0, 20.0, -10.0, -10.0, 20.0, -10.000000000000002]\n",
       " [-10.000000000000002, 20.0, -9.999999999999996, -9.999999999999996, 20.0, -10.000000000000002, -10.000000000000002, 20.000000000000004, -10.000000000000002, -10.000000000000002, 20.000000000000004, -10.000000000000002]\n",
       " [-10.000000000000002, 19.999999999999993, -9.999999999999991, -9.999999999999991, 19.999999999999993, -10.000000000000002, -10.000000000000002, 20.000000000000004, -10.000000000000002, 0.0, 1.0]"
      ]
     },
     "execution_count": 8,
     "metadata": {},
     "output_type": "execute_result"
    }
   ],
   "source": [
    "V"
   ]
  },
  {
   "cell_type": "markdown",
   "id": "d2cfe654-8544-4713-ac3b-55e94481caf6",
   "metadata": {},
   "source": [
    "Generate an initial guess that fulfills the boundary conditions. Solve and check the result"
   ]
  },
  {
   "cell_type": "code",
   "execution_count": 9,
   "id": "094e2da0-f6ab-4ae3-a047-a6020cfe641c",
   "metadata": {},
   "outputs": [
    {
     "data": {
      "text/plain": [
       "4.76123924537016e-16"
      ]
     },
     "execution_count": 9,
     "metadata": {},
     "output_type": "execute_result"
    }
   ],
   "source": [
    "u = similar(f,axes(A,2))\n",
    "u .= f\n",
    "IterativeSolvers.cg!(u,A,f)\n",
    "r = A*u - f\n",
    "norm(r)"
   ]
  },
  {
   "cell_type": "code",
   "execution_count": 10,
   "id": "ec416b16-f5d1-4626-9339-95cb6718701e",
   "metadata": {},
   "outputs": [
    {
     "data": {
      "text/plain": [
       "3-element Vector{SubArray{Float64, 1, Vector{Float64}, Tuple{UnitRange{Int32}}, true}}:\n",
       " [0.0, -0.016499999999999997, -0.031200000000000012]\n",
       " [-0.04270000000000001, -0.04999999999999999, -0.0525, -0.049999999999999996]\n",
       " [-0.042699999999999995, -0.03119999999999998, -0.0165, 0.0]"
      ]
     },
     "execution_count": 10,
     "metadata": {},
     "output_type": "execute_result"
    }
   ],
   "source": [
    "own_values(u)"
   ]
  },
  {
   "cell_type": "code",
   "execution_count": 11,
   "id": "32d275b2-4484-403e-ae8e-0f69faba66bb",
   "metadata": {},
   "outputs": [
    {
     "ename": "LoadError",
     "evalue": "Scalar indexing on PVector is not allowed for performance reasons.",
     "output_type": "error",
     "traceback": [
      "Scalar indexing on PVector is not allowed for performance reasons.",
      "",
      "Stacktrace:",
      "  [1] error(s::String)",
      "    @ Base .\\error.jl:35",
      "  [2] scalar_indexing_action(a::PVector{Vector{Float64}, Vector{Vector{Float64}}, Vector{PartitionedArrays.LocalIndicesWithConstantBlockSize{1}}, Vector{PartitionedArrays.VectorAssemblyCache{Float64}}, Float64})",
      "    @ PartitionedArrays C:\\Users\\sbranchett\\.julia\\packages\\PartitionedArrays\\cNe0T\\src\\primitives.jl:8",
      "  [3] getindex",
      "    @ C:\\Users\\sbranchett\\.julia\\packages\\PartitionedArrays\\cNe0T\\src\\p_vector.jl:206 [inlined]",
      "  [4] iterate",
      "    @ .\\abstractarray.jl:1167 [inlined]",
      "  [5] iterate",
      "    @ .\\abstractarray.jl:1165 [inlined]",
      "  [6] extrema",
      "    @ C:\\Users\\sbranchett\\.julia\\packages\\NaNMath\\MNJRI\\src\\NaNMath.jl:184 [inlined]",
      "  [7] ignorenan_extrema",
      "    @ C:\\Users\\sbranchett\\.julia\\packages\\Plots\\QZRtR\\src\\Plots.jl:136 [inlined]",
      "  [8] ignorenan_min_max(x::PVector{Vector{Float64}, Vector{Vector{Float64}}, Vector{PartitionedArrays.LocalIndicesWithConstantBlockSize{1}}, Vector{PartitionedArrays.VectorAssemblyCache{Float64}}, Float64}, ex::Tuple{Float64, Float64})",
      "    @ Plots C:\\Users\\sbranchett\\.julia\\packages\\Plots\\QZRtR\\src\\utils.jl:89",
      "  [9] process_sliced_series_attributes!(plt::Plots.Plot{Plots.GRBackend}, kw_list::Vector{Dict{Symbol, Any}})",
      "    @ Plots C:\\Users\\sbranchett\\.julia\\packages\\Plots\\QZRtR\\src\\pipeline.jl:158",
      " [10] _process_seriesrecipes!(plt::Any, kw_list::Any)",
      "    @ RecipesPipeline C:\\Users\\sbranchett\\.julia\\packages\\RecipesPipeline\\XxUHt\\src\\series_recipe.jl:16",
      " [11] recipe_pipeline!(plt::Any, plotattributes::Any, args::Any)",
      "    @ RecipesPipeline C:\\Users\\sbranchett\\.julia\\packages\\RecipesPipeline\\XxUHt\\src\\RecipesPipeline.jl:99",
      " [12] _plot!(plt::Plots.Plot, plotattributes::Any, args::Any)",
      "    @ Plots C:\\Users\\sbranchett\\.julia\\packages\\Plots\\QZRtR\\src\\plot.jl:223",
      " [13] #plot#180",
      "    @ C:\\Users\\sbranchett\\.julia\\packages\\Plots\\QZRtR\\src\\plot.jl:102 [inlined]",
      " [14] top-level scope",
      "    @ In[11]:2"
     ]
    }
   ],
   "source": [
    "#..plot the solution  \n",
    "p1=plot(x,u,shape=:circle,lw=2,legend=false)\n",
    "xlabel!(\"x\") \n",
    "ylabel!(\"u(x)\")\n",
    "title!(\"Numerically computed solution\")"
   ]
  }
 ],
 "metadata": {
  "kernelspec": {
   "display_name": "Julia 1.8.5",
   "language": "julia",
   "name": "julia-1.8"
  },
  "language_info": {
   "file_extension": ".jl",
   "mimetype": "application/julia",
   "name": "julia",
   "version": "1.8.5"
  }
 },
 "nbformat": 4,
 "nbformat_minor": 5
}
