{
 "cells": [
  {
   "cell_type": "markdown",
   "id": "373eea74-e8a2-41e5-bf40-12c75458e649",
   "metadata": {},
   "source": [
    "## Section 3: Distributed Memory Assembly of Matrix and Right-Hand Side Vector \n",
    "- using [PartitionedMatrices](https://github.com/fverdugo/PartitionedArrays.jl); need to study the example described at [example](https://www.francescverdugo.com/PartitionedArrays.jl/dev/usage/).  \n",
    "\n",
    "<div>\n",
    "<img src=\"./figures/dag-fem-1d.jpg\" width=400 /> \n",
    "<center> Figure 1: Directed acyclic graph representation of decomposed mesh of 4 elements on the interval. A finite element discretization is assumed. </center>   \n",
    "</div>\n",
    "\n",
    "[Au = f example here.](https://www.francescverdugo.com/PartitionedArrays.jl/dev/examples/#Distributed-sparse-linear-solve)"
   ]
  },
  {
   "cell_type": "markdown",
   "id": "5400c5b5-0b90-4a27-bd9a-be59cac01c21",
   "metadata": {},
   "source": [
    "First generate the row partition"
   ]
  },
  {
   "cell_type": "code",
   "execution_count": 1,
   "id": "298195ce-6bb7-46f1-bed5-536e7f3c4963",
   "metadata": {},
   "outputs": [
    {
     "data": {
      "text/plain": [
       "3-element Vector{PartitionedArrays.LocalIndicesWithConstantBlockSize{1}}:\n",
       " [1]\n",
       " [2, 3]\n",
       " [4, 5]"
      ]
     },
     "execution_count": 1,
     "metadata": {},
     "output_type": "execute_result"
    }
   ],
   "source": [
    "# using Distributed\n",
    "using PartitionedArrays\n",
    "using IterativeSolvers\n",
    "using LinearAlgebra\n",
    "\n",
    "np = 3\n",
    "n = 5\n",
    "ranks = LinearIndices((np,))\n",
    "row_partition = uniform_partition(ranks,n)"
   ]
  },
  {
   "cell_type": "markdown",
   "id": "5b75973f-6fdb-45ac-aa1c-0c1b61a38d76",
   "metadata": {},
   "source": [
    "Compute the rhs vector"
   ]
  },
  {
   "cell_type": "code",
   "execution_count": 2,
   "id": "6d08859d-b9fd-4de1-9c6b-5da219a33487",
   "metadata": {},
   "outputs": [
    {
     "data": {
      "text/plain": [
       "5-element PVector{Vector{Float64}} partitioned into 3 parts\n"
      ]
     },
     "execution_count": 2,
     "metadata": {},
     "output_type": "execute_result"
    }
   ],
   "source": [
    "IV = map(row_partition) do row_indices\n",
    "    I,V = Int[], Float64[]\n",
    "    for global_row in local_to_global(row_indices)\n",
    "        if global_row == 1\n",
    "            v = 1.0\n",
    "        elseif global_row == n\n",
    "            v = -1.0\n",
    "        else\n",
    "            continue\n",
    "        end\n",
    "        push!(I,global_row)\n",
    "        push!(V,v)\n",
    "    end\n",
    "    I,V\n",
    "end\n",
    "I,V = tuple_of_arrays(IV)\n",
    "b = pvector!(I,V,row_partition) |> fetch"
   ]
  },
  {
   "cell_type": "markdown",
   "id": "8c330cf7-d472-44c7-8542-dc229dc019c2",
   "metadata": {},
   "source": [
    "Compute the system matrix"
   ]
  },
  {
   "cell_type": "code",
   "execution_count": 3,
   "id": "7f033826-d48a-4e26-be31-b791f75c8183",
   "metadata": {},
   "outputs": [
    {
     "data": {
      "text/plain": [
       "5×5 PSparseMatrix{SparseArrays.SparseMatrixCSC{Float64, Int64}} partitioned into 3 parts\n"
      ]
     },
     "execution_count": 3,
     "metadata": {},
     "output_type": "execute_result"
    }
   ],
   "source": [
    "IJV = map(row_partition) do row_indices\n",
    "    I,J,V = Int[], Int[], Float64[]\n",
    "    for global_row in local_to_global(row_indices)\n",
    "        if global_row in (1,n)\n",
    "            push!(I,global_row)\n",
    "            push!(J,global_row)\n",
    "            push!(V,1.0)\n",
    "        else\n",
    "            push!(I,global_row)\n",
    "            push!(J,global_row-1)\n",
    "            push!(V,-1.0)\n",
    "            push!(I,global_row)\n",
    "            push!(J,global_row)\n",
    "            push!(V,2.0)\n",
    "            push!(I,global_row)\n",
    "            push!(J,global_row+1)\n",
    "            push!(V,-1.0)\n",
    "        end\n",
    "    end\n",
    "    I,J,V\n",
    "end\n",
    "I,J,V = tuple_of_arrays(IJV)\n",
    "col_partition = row_partition\n",
    "A = psparse!(I,J,V,row_partition,col_partition) |> fetch"
   ]
  },
  {
   "cell_type": "markdown",
   "id": "d2cfe654-8544-4713-ac3b-55e94481caf6",
   "metadata": {},
   "source": [
    "Generate an initial guess that fulfills the boundary conditions. Solve and check the result"
   ]
  },
  {
   "cell_type": "code",
   "execution_count": 4,
   "id": "094e2da0-f6ab-4ae3-a047-a6020cfe641c",
   "metadata": {},
   "outputs": [
    {
     "data": {
      "text/plain": [
       "3.1401849173675503e-16"
      ]
     },
     "execution_count": 4,
     "metadata": {},
     "output_type": "execute_result"
    }
   ],
   "source": [
    "x = similar(b,axes(A,2))\n",
    "x .= b\n",
    "IterativeSolvers.cg!(x,A,b)\n",
    "r = A*x - b\n",
    "norm(r)"
   ]
  }
 ],
 "metadata": {
  "kernelspec": {
   "display_name": "Julia 1.8.5",
   "language": "julia",
   "name": "julia-1.8"
  },
  "language_info": {
   "file_extension": ".jl",
   "mimetype": "application/julia",
   "name": "julia",
   "version": "1.8.5"
  }
 },
 "nbformat": 4,
 "nbformat_minor": 5
}
